{
 "cells": [
  {
   "cell_type": "code",
   "execution_count": null,
   "metadata": {
    "collapsed": false
   },
   "outputs": [],
   "source": [
    "using InspectDR\n",
    "using Colors\n",
    "\n",
    "#Define colour constants:\n",
    "black = RGB24(0, 0, 0); white = RGB24(1, 1, 1)\n",
    "red = RGB24(1, 0, 0); green = RGB24(0, 1, 0); blue = RGB24(0, 0, 1)\n",
    "\n",
    "#Reset list of displays for demo purposes (in case GtkDisplay is currently active)\n",
    "function resetdisplays()\n",
    "    dfltdisp = Base.Multimedia.displays[end]\n",
    "    if typeof(dfltdisp) <: InspectDR.GtkDisplay\n",
    "        pop!(Base.Multimedia.displays)\n",
    "    end\n",
    "    nothing\n",
    "end\n",
    "\n",
    "nothing"
   ]
  },
  {
   "cell_type": "markdown",
   "metadata": {},
   "source": [
    "# Define \"plot\" object"
   ]
  },
  {
   "cell_type": "code",
   "execution_count": null,
   "metadata": {
    "collapsed": false,
    "scrolled": false
   },
   "outputs": [],
   "source": [
    "#Modify previously-generated Bode plot:\n",
    "#fmin, fmax, p0: in Hz\n",
    "function PlotBode(plot, fmin, fmax, p0)\n",
    "    const style = :solid\n",
    "    const npts = 100\n",
    "    f = logspace(log10(fmin), log10(fmax), npts)\n",
    "    y = 1./(1-(im*f/p0))\n",
    "    plot.data = [] #Clear old data\n",
    "    wfrm = add(plot, f, y)\n",
    "    wfrm.line = line(color=blue, width=1, style=style)\n",
    "    plot.ext_full = InspectDR.PExtents2D(NaN, NaN, -40, 0)\n",
    "    return plot\n",
    "end\n",
    "\n",
    "#Create new Bode plot:\n",
    "function PlotBode(fmin, fmax, p0)\n",
    "    const w = 500; const h = w/1.6 #Select plot width/height\n",
    "    plot = InspectDR.Plot2D()\n",
    "    plot.axes = InspectDR.axes(:log10, :dB20)\n",
    "    plot.layout.grid = grid(vmajor=true, vminor=true, hmajor=false)\n",
    "    plot.layout.wdata=w; plot.layout.hdata=h\n",
    "    a = plot.annotation\n",
    "    a.title = \"Bode Plot\"\n",
    "    a.xlabel = \"Frequency (Hz)\"\n",
    "    a.ylabel = \"Amplitude (dB)\"\n",
    "    return PlotBode(plot, fmin, fmax, p0)\n",
    "end\n",
    "\n",
    "plot = PlotBode(1e6, 20e9, 0.5e9)\n",
    "println(\"\\\"plot\\\" defined.\")\n",
    "nothing"
   ]
  },
  {
   "cell_type": "markdown",
   "metadata": {},
   "source": [
    "# Test inline SVG plots\n",
    "**NOTE:** SVG outputs do not render well in notebooks for some reason..."
   ]
  },
  {
   "cell_type": "code",
   "execution_count": null,
   "metadata": {
    "collapsed": false
   },
   "outputs": [],
   "source": [
    "#Jupyter typically requests inline graphics as SVG first.\n",
    "#Allowing MIME\"image/svg+xml\" renderings therefore produces SVG outputs:\n",
    "InspectDR.defaults.rendersvg = true\n",
    "\n",
    "resetdisplays() #Just in case\n",
    "plot #Implicit call to \"optimal\" \"show(..,::MIME,...)\" function"
   ]
  },
  {
   "cell_type": "markdown",
   "metadata": {},
   "source": [
    "# Test inline PNG plots"
   ]
  },
  {
   "cell_type": "code",
   "execution_count": null,
   "metadata": {
    "collapsed": false
   },
   "outputs": [],
   "source": [
    "#When MIME\"image/svg+xml\" is disabled, Jupyter eventually requests PNG inline graphics:\n",
    "InspectDR.defaults.rendersvg = false\n",
    "\n",
    "resetdisplays() #Just in case\n",
    "display(plot) #Explicit call to display plot\n",
    "nothing"
   ]
  },
  {
   "cell_type": "markdown",
   "metadata": {},
   "source": [
    "# Test InspectDR Gtk \"Display\""
   ]
  },
  {
   "cell_type": "code",
   "execution_count": null,
   "metadata": {
    "collapsed": false
   },
   "outputs": [],
   "source": [
    "resetdisplays() #Just in case\n",
    "pushdisplay(InspectDR.GtkDisplay()) #Make \"GtkDisplay\" highest priority\n",
    "display(plot) #This time InspectDR.GtkDisplay() is on top of display stack\n",
    "nothing"
   ]
  },
  {
   "cell_type": "markdown",
   "metadata": {},
   "source": [
    "# Now test display() with explicit GtkDisplay<:Display object"
   ]
  },
  {
   "cell_type": "code",
   "execution_count": null,
   "metadata": {
    "collapsed": false
   },
   "outputs": [],
   "source": [
    "resetdisplays()\n",
    "display(Base.Multimedia.displays) #GtkDisplay should not longer be on display stack\n",
    "display(InspectDR.GtkDisplay(), plot) #Explicit call to use Gtk \"display\"\n",
    "nothing"
   ]
  },
  {
   "cell_type": "markdown",
   "metadata": {},
   "source": [
    "# Save plot to .svg file"
   ]
  },
  {
   "cell_type": "code",
   "execution_count": null,
   "metadata": {
    "collapsed": false
   },
   "outputs": [],
   "source": [
    "InspectDR.write_svg(\"plotsave.svg\", plot) #High-quality output!"
   ]
  },
  {
   "cell_type": "markdown",
   "metadata": {},
   "source": [
    "# Demo complete!"
   ]
  }
 ],
 "metadata": {
  "anaconda-cloud": {},
  "kernelspec": {
   "display_name": "Julia 0.5.0",
   "language": "julia",
   "name": "julia-0.5"
  },
  "language_info": {
   "file_extension": ".jl",
   "mimetype": "application/julia",
   "name": "julia",
   "version": "0.5.0"
  }
 },
 "nbformat": 4,
 "nbformat_minor": 0
}
