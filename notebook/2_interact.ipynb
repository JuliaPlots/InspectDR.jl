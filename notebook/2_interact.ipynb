{
 "cells": [
  {
   "cell_type": "code",
   "execution_count": null,
   "metadata": {
    "collapsed": false
   },
   "outputs": [],
   "source": [
    "using InspectDR\n",
    "using Colors\n",
    "\n",
    "#Define colour constants:\n",
    "black = RGB24(0, 0, 0); white = RGB24(1, 1, 1)\n",
    "red = RGB24(1, 0, 0); green = RGB24(0, 1, 0); blue = RGB24(0, 0, 1)\n",
    "\n",
    "#When MIME\"image/svg+xml\" is disabled, Jupyter eventually requests PNG inline graphics:\n",
    "#(SVG outputs do not render well in notebooks for some reason...)\n",
    "InspectDR.defaults.rendersvg = false\n",
    "nothing"
   ]
  },
  {
   "cell_type": "markdown",
   "metadata": {},
   "source": [
    "# Define \"PlotBode\" function"
   ]
  },
  {
   "cell_type": "code",
   "execution_count": null,
   "metadata": {
    "collapsed": false,
    "scrolled": false
   },
   "outputs": [],
   "source": [
    "#Modify previously-generated Bode plot:\n",
    "#fmin, fmax, p0: in Hz\n",
    "function PlotBode(plot, fmin, fmax, p0)\n",
    "    const style = :solid\n",
    "    const npts = 100\n",
    "    f = logspace(log10(fmin), log10(fmax), npts)\n",
    "    y = 1./(1-(im*f/p0))\n",
    "    plot.data = [] #Clear old data\n",
    "    wfrm = add(plot, f, y)\n",
    "    wfrm.line = line(color=blue, width=1, style=style)\n",
    "    plot.ext = InspectDR.PExtents2D(NaN, NaN, -40, 0)\n",
    "    plot.ext_full = deepcopy(plot.ext)\n",
    "    return plot\n",
    "end\n",
    "\n",
    "#Create new Bode plot:\n",
    "function PlotBode(fmin, fmax, p0)\n",
    "    const w = 500; const h = w/1.6 #Select plot width/height\n",
    "    plot = InspectDR.Plot2D()\n",
    "    plot.axes = InspectDR.axes(:log10, :dB20)\n",
    "    plot.layout.grid = grid(vmajor=true, vminor=true, hmajor=false)\n",
    "    plot.layout.wdata=w; plot.layout.hdata=h\n",
    "    a = plot.annotation\n",
    "    a.title = \"Bode Plot\"\n",
    "    a.xlabel = \"Frequency (Hz)\"\n",
    "    a.ylabel = \"Amplitude (dB)\"\n",
    "    return PlotBode(plot, fmin, fmax, p0)\n",
    "end\n"
   ]
  },
  {
   "cell_type": "markdown",
   "metadata": {},
   "source": [
    "# Setup: Interact, Reactive, and Signals\n",
    "(Also create initial plot object)"
   ]
  },
  {
   "cell_type": "code",
   "execution_count": null,
   "metadata": {
    "collapsed": false
   },
   "outputs": [],
   "source": [
    "using Interact, Reactive\n",
    "\n",
    "fmult = Signal(Float64, 1e9) #GHz\n",
    "fmax = Signal(Float64, 20)\n",
    "p0 = Signal(Float64, 5)\n",
    "s = value(fmult) #scale factor\n",
    "pobj = PlotBode(s*1e-3, s*value(fmax), s*value(p0)) #Create initial plot object\n",
    "nothing"
   ]
  },
  {
   "cell_type": "markdown",
   "metadata": {},
   "source": [
    "# Interact/Reactive Control: Inline Plots\n",
    "Use sliders/Text boxes to change pole frequency"
   ]
  },
  {
   "cell_type": "code",
   "execution_count": null,
   "metadata": {
    "collapsed": false,
    "scrolled": true
   },
   "outputs": [],
   "source": [
    "#TODO: Cannot initialize togglebuttons.\n",
    "w_fmult = togglebuttons([(\"kHz\", 1e3), (\"MHz\", 1e6), (\"GHz\", 1e9)], value=value(fmult), signal=fmult)\n",
    "display(w_fmult)\n",
    "\n",
    "#TODO: Display fmax textbox.\n",
    "txt_fmax = textbox(value(fmax), label=\"max freq\", signal=fmax) #Will not display??\n",
    "#txt_fmax = textbox(value(fmax), label=\"max freq\") #This one does not cause hangups\n",
    "#display(txt_fmax) #Will hang session, for some reason\n",
    "\n",
    "sld_p0 = map((m)->(slider(1e-3:1e-3:m, value=value(p0), label=\"pole freq\", signal=p0)), fmax)\n",
    "display(sld_p0)\n",
    "\n",
    "sig_plot = map((s, _fmax, _p0)->PlotBode(pobj, s*1e-3, _fmax*s, _p0*s), fmult, fmax, p0)\n",
    "display(sig_plot)\n",
    "\n",
    "nothing"
   ]
  },
  {
   "cell_type": "markdown",
   "metadata": {},
   "source": [
    "# Interact/Reactive Control: Inspect/Gtk GUI\n",
    "(Re-display GUI controls for convenience)"
   ]
  },
  {
   "cell_type": "code",
   "execution_count": null,
   "metadata": {
    "collapsed": false
   },
   "outputs": [],
   "source": [
    "gtkgui = display(InspectDR.GtkDisplay(), pobj) #Display plot in Gtk GUI.\n",
    "\n",
    "#Refresh GUI when plot changes:\n",
    "sig_gtkgui = map((p)->InspectDR.refresh(gtkgui), sig_plot)\n",
    "\n",
    "#Re-display GUI controls, for convenience:\n",
    "map(display, [w_fmult, sld_p0])\n",
    "nothing"
   ]
  },
  {
   "cell_type": "markdown",
   "metadata": {},
   "source": [
    "# Demo complete!"
   ]
  }
 ],
 "metadata": {
  "anaconda-cloud": {},
  "kernelspec": {
   "display_name": "Julia 0.5.0",
   "language": "julia",
   "name": "julia-0.5"
  },
  "language_info": {
   "file_extension": ".jl",
   "mimetype": "application/julia",
   "name": "julia",
   "version": "0.5.0"
  }
 },
 "nbformat": 4,
 "nbformat_minor": 0
}
