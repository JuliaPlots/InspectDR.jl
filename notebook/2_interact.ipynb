{
 "cells": [
  {
   "cell_type": "markdown",
   "metadata": {},
   "source": [
    "# Interact+InspectDR: Bode Plot Example"
   ]
  },
  {
   "cell_type": "code",
   "execution_count": null,
   "metadata": {
    "collapsed": false
   },
   "outputs": [],
   "source": [
    "using InspectDR\n",
    "\n",
    "#When MIME\"image/svg+xml\" is disabled, Jupyter eventually requests PNG inline graphics:\n",
    "#(SVG outputs do not render well in notebooks for some reason...)\n",
    "InspectDR.defaults.rendersvg = false\n",
    "\n",
    "include(\"BodePlots.jl\") #Defines BodePlots.* utilities.\n",
    "\n",
    "nothing"
   ]
  },
  {
   "cell_type": "markdown",
   "metadata": {},
   "source": [
    "# Setup: Interact, Reactive, and Signals\n",
    "(Also create initial plot object)"
   ]
  },
  {
   "cell_type": "code",
   "execution_count": null,
   "metadata": {
    "collapsed": false
   },
   "outputs": [],
   "source": [
    "using Interact, Reactive\n",
    "\n",
    "fopt = [(\"kHz\", 1.0e3), (\"MHz\", 1.0e6), (\"GHz\", 1.0e9)] #Make sure to use Float64\n",
    "freqmap = Dict{Float64, String}(v=>s for (s,v) in fopt)\n",
    "fmult = Signal(Float64, 1e6)\n",
    "fmax = Signal(Float64, 10)\n",
    "G = Signal(Float64, 20)\n",
    "fz = Signal(Float64, value(fmax))\n",
    "fp1 = Signal(Float64, .05)\n",
    "fp2 = Signal(Float64, .9)\n",
    "pobj = BodePlots.new() #Create initial plot object\n",
    "nothing"
   ]
  },
  {
   "cell_type": "markdown",
   "metadata": {},
   "source": [
    "# Interact/Reactive Control: Inline Plots\n",
    "Use sliders/text boxes to change pole frequency\n",
    "\n",
    "## TODO\n",
    "\n",
    " - Find good way to support log-spaced ranges for frequencies.\n",
    " - Find out why txt_fmax will not display.\n",
    " - Improve widgets layout (`hstack`?) once supported by Interact."
   ]
  },
  {
   "cell_type": "code",
   "execution_count": null,
   "metadata": {
    "collapsed": false,
    "scrolled": true
   },
   "outputs": [],
   "source": [
    "w_fmult = togglebuttons(fopt, value_label=freqmap[value(fmult)], signal=fmult)\n",
    "w_annot = checkbox(true, label=\"Display annotation\")\n",
    "map(display, [w_fmult, w_annot])\n",
    "\n",
    "txt_fmax = textbox(value(fmax), label=\"max freq\", signal=fmax) #Will not display??\n",
    "#txt_fmax = textbox(value(fmax), label=\"max freq\") #This one does not cause hangups\n",
    "#display(txt_fmax) #Will hang session, for some reason\n",
    "\n",
    "#Gain slider:\n",
    "sld_G = slider(-10:1.0:100, value=value(G), label=\"Gain (dB)\", signal=G)\n",
    "display(sld_G)\n",
    "\n",
    "#Pole/zero sliders:\n",
    "sld_fz = map((m)->(slider(1e-3:1e-3:m, value=value(fz), label=\"zero\", signal=fz)), fmax)\n",
    "sld_fp1 = map((m)->(slider(1e-3:1e-3:m, value=value(fp1), label=\"pole 1\", signal=fp1)), fmax)\n",
    "sld_fp2 = map((m)->(slider(1e-3:1e-3:m, value=value(fp2), label=\"pole 2\", signal=fp2)), fmax)\n",
    "map(display, [sld_fz, sld_fp1, sld_fp2])\n",
    "\n",
    "#Widget-controlled plot:\n",
    "sig_plot = map(\n",
    "    (s, _fmax, _G, _fz, _fp1, _fp2, a)->BodePlots.update(pobj, s*1e-3, _fmax*s, _G, _fz*s, _fp1*s, _fp2*s, a),\n",
    "fmult, fmax, G, fz, fp1, fp2, signal(w_annot)\n",
    "    )\n",
    "display(sig_plot)\n",
    "\n",
    "nothing"
   ]
  },
  {
   "cell_type": "markdown",
   "metadata": {},
   "source": [
    "# Interact/Reactive Control: Inspect/Gtk GUI\n",
    "(Re-display GUI controls for convenience)"
   ]
  },
  {
   "cell_type": "code",
   "execution_count": null,
   "metadata": {
    "collapsed": false
   },
   "outputs": [],
   "source": [
    "gtkgui = display(InspectDR.GtkDisplay(), pobj) #Display plot in Gtk GUI.\n",
    "\n",
    "#Refresh GUI when plot changes:\n",
    "sig_gtkgui = map((p)->InspectDR.refresh(gtkgui), sig_plot)\n",
    "\n",
    "#Re-display GUI controls, for convenience:\n",
    "map(display, [w_fmult, sld_G, sld_fz, sld_fp1, sld_fp2])\n",
    "nothing"
   ]
  },
  {
   "cell_type": "markdown",
   "metadata": {},
   "source": [
    "# Demo complete!"
   ]
  }
 ],
 "metadata": {
  "anaconda-cloud": {},
  "kernelspec": {
   "display_name": "Julia 0.5.0",
   "language": "julia",
   "name": "julia-0.5"
  },
  "language_info": {
   "file_extension": ".jl",
   "mimetype": "application/julia",
   "name": "julia",
   "version": "0.5.0"
  }
 },
 "nbformat": 4,
 "nbformat_minor": 0
}
