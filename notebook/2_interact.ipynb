{
 "cells": [
  {
   "cell_type": "markdown",
   "metadata": {},
   "source": [
    "# Interact+InspectDR: Bode Plot Example"
   ]
  },
  {
   "cell_type": "code",
   "execution_count": null,
   "metadata": {},
   "outputs": [],
   "source": [
    "using InspectDR\n",
    "\n",
    "#When MIME\"image/svg+xml\" is disabled, Jupyter eventually requests PNG inline graphics:\n",
    "#(SVG outputs do not render well in notebooks for some reason...)\n",
    "InspectDR.defaults.rendersvg = false\n",
    "\n",
    "include(\"BodePlots.jl\") #Defines BodePlots.* utilities.\n",
    "\n",
    "@info(\"Base utilities loaded.\")"
   ]
  },
  {
   "cell_type": "markdown",
   "metadata": {},
   "source": [
    "# Setup: Interact, Reactive, and Signals\n",
    "(Also construct widgets and plot object, `pobj`)\n",
    "\n",
    "## TODO\n",
    "\n",
    " - Find out why `txt_fmax` `spinbox` cannot be constructed without making Julia hang..\n",
    " - Improve widget layout (`hstack`?) once supported by Interact."
   ]
  },
  {
   "cell_type": "code",
   "execution_count": null,
   "metadata": {},
   "outputs": [],
   "source": [
    "using Interact\n",
    "\n",
    "#Create base Observable-s that control plot output:\n",
    "fmult = Observable(Float64(1e9)) #For all user-input\n",
    "fmax = Observable(Float64(10)) #Maximum plot frequency\n",
    "G = Observable(Float64(20)) #Gain (dB)\n",
    "fz = Observable(Float64(fmax[])) #Zero frequency\n",
    "fp1 = Observable(Float64(.05)) #Pole 1 frequency\n",
    "fp2 = Observable(Float64(.9)) #Pole 2 frequency\n",
    "annot = Observable(Bool(true)) #Annotate plot\n",
    "\n",
    "#Create initial plot object:\n",
    "pobj = BodePlots.new()\n",
    "\n",
    "#Define desired frequency ranges:\n",
    "fmult_opt = OrderedDict(\"kHz\" => 1.0e3, \"MHz\" => 1.0e6, \"GHz\" => 1.0e9) #Make sure to use Float64\n",
    "\n",
    "function frequency_slider(sig::Observable, fmax::Observable; label::String=\"\")\n",
    "    _fmin = 1e-3\n",
    "    rng(_fmax) = 10 .^ range(log10(_fmin), stop=log10(max(_fmin, _fmax)), length=100)\n",
    "    #NOTE: Limit max value to 2_fmin to avoid issues:\n",
    "    return map((_fmax)->slider(rng(_fmax), value=sig, label=label), fmax)\n",
    "end\n",
    "\n",
    "#Construct widgets used to control plots:\n",
    "tgl_fmult = togglebuttons(fmult_opt, value=fmult, label=\"freq multiplier\")\n",
    "#txt_fmax = spinbox(value=fmax, label=\"max freq\") #Causes Julia to hang.\n",
    "txt_fmax = fmax #Workaround\n",
    "sld_G = slider(-10:1.0:100, value=G, label=\"Gain (dB)\")\n",
    "sld_fz = frequency_slider(fz, fmax, label=\"zero\")\n",
    "sld_fp1 = frequency_slider(fp1, fmax, label=\"pole 1\")\n",
    "sld_fp2 = frequency_slider(fp2, fmax, label=\"pole 2\")\n",
    "chk_annot = checkbox(annot, label=\"Display annotation\")\n",
    "\n",
    "#Build widget list to control plot for future code blocks\n",
    "widgetlist = [tgl_fmult, txt_fmax, sld_G, sld_fz, sld_fp1, sld_fp2, chk_annot]\n",
    "#widgetlist = [txt_fmax, sld_fz, sld_fp1, sld_fp2]\n",
    "\n",
    "@info(\"Widgets constructed.\")"
   ]
  },
  {
   "cell_type": "markdown",
   "metadata": {},
   "source": [
    "# Interact/Reactive Control: Inline Plots\n",
    "Use sliders/text boxes to alter transfer function"
   ]
  },
  {
   "cell_type": "code",
   "execution_count": null,
   "metadata": {},
   "outputs": [],
   "source": [
    "#Widget-controlled plot:\n",
    "updater_plot = map(fmult, fmax, G, fz, fp1, fp2, annot) do s, _fmax, _G, _fz, _fp1, _fp2, a\n",
    "    BodePlots.update(pobj, s*1e-3, _fmax*s, _G, _fz*s, _fp1*s, _fp2*s, a)\n",
    "end\n",
    "display(updater_plot)\n",
    "map(display, widgetlist)\n",
    "\n",
    "@info(\"Ready to control inline plot.\")"
   ]
  },
  {
   "cell_type": "markdown",
   "metadata": {},
   "source": [
    "# Interact/Reactive Control: Inspect/Gtk GUI\n",
    "(Re-display GUI controls for convenience)"
   ]
  },
  {
   "cell_type": "code",
   "execution_count": null,
   "metadata": {},
   "outputs": [],
   "source": [
    "gtkgui = display(InspectDR.GtkDisplay(), pobj) #Display plot in Gtk GUI.\n",
    "\n",
    "#Refresh GUI when plot changes:\n",
    "updater_gtkgui = map((p)->InspectDR.refresh(gtkgui), updater_plot)\n",
    "\n",
    "#Re-display GUI controls, for convenience:\n",
    "map(display, widgetlist)\n",
    "\n",
    "@info(\"Ready to control Gtk plot.\")"
   ]
  },
  {
   "cell_type": "markdown",
   "metadata": {},
   "source": [
    "# Demo complete!"
   ]
  }
 ],
 "metadata": {
  "kernelspec": {
   "display_name": "Julia 1.0.0",
   "language": "julia",
   "name": "julia-1.0"
  },
  "language_info": {
   "file_extension": ".jl",
   "mimetype": "application/julia",
   "name": "julia",
   "version": "1.0.0"
  }
 },
 "nbformat": 4,
 "nbformat_minor": 2
}
